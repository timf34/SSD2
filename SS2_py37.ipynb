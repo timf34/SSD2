{
  "nbformat": 4,
  "nbformat_minor": 0,
  "metadata": {
    "colab": {
      "name": "SS2_py37.ipynb",
      "provenance": [],
      "authorship_tag": "ABX9TyOiEaR+3YIn0eTnhySj1YjD",
      "include_colab_link": true
    },
    "kernelspec": {
      "name": "python3",
      "display_name": "Python 3"
    },
    "language_info": {
      "name": "python"
    }
  },
  "cells": [
    {
      "cell_type": "markdown",
      "metadata": {
        "id": "view-in-github",
        "colab_type": "text"
      },
      "source": [
        "<a href=\"https://colab.research.google.com/github/timf34/SSD2/blob/main/SS2_py37.ipynb\" target=\"_parent\"><img src=\"https://colab.research.google.com/assets/colab-badge.svg\" alt=\"Open In Colab\"/></a>"
      ]
    },
    {
      "cell_type": "markdown",
      "source": [
        "Connect to Google Drive\n"
      ],
      "metadata": {
        "id": "1D2g2P8njzST"
      }
    },
    {
      "cell_type": "code",
      "execution_count": 12,
      "metadata": {
        "colab": {
          "base_uri": "https://localhost:8080/"
        },
        "id": "P5WnRyw_XlrN",
        "outputId": "51135e0c-ef16-4f14-f743-9ff09d479e25"
      },
      "outputs": [
        {
          "output_type": "stream",
          "name": "stdout",
          "text": [
            "Mounted at /content/gdrive\n"
          ]
        }
      ],
      "source": [
        "from google.colab import drive\n",
        "drive.mount('/content/gdrive')"
      ]
    },
    {
      "cell_type": "markdown",
      "metadata": {
        "id": "J9dxrkNyqGKd"
      },
      "source": [
        "## Cd into our repo, setup venv, ensure its created correctly, then install packages\n",
        "\n",
        "**Note that we need to prepend each statement with `!source colab_venv/bin/activate;` when we want to use our venv!"
      ]
    },
    {
      "cell_type": "code",
      "execution_count": 14,
      "metadata": {
        "colab": {
          "base_uri": "https://localhost:8080/"
        },
        "id": "uVy9W3BdqMan",
        "outputId": "aa219ce2-a226-44f2-8e27-802fa5326e3a"
      },
      "outputs": [
        {
          "output_type": "stream",
          "name": "stdout",
          "text": [
            "/root\n",
            "/\n",
            "/content/gdrive/MyDrive/Personal - 3rd year/CERI/Christian, Tim and Timothy /ColabDirs/SSD2\n",
            "\u001b[0m\u001b[01;34mcolab_venv\u001b[0m/       \u001b[01;34msocial_dilemmas\u001b[0m/\n",
            "notes.md          SS2_py37.ipynb\n",
            "\u001b[01;34m__pycache__\u001b[0m/      SSD2.ipynb\n",
            "README.md         \u001b[01;34mtests\u001b[0m/\n",
            "requirements.txt  tinyscaler-1.1.0-cp310-cp310-manylinux2010_x86_64.whl\n",
            "\u001b[01;34mresults\u001b[0m/          utility_funcs.py\n",
            "\u001b[01;34mrun_scripts\u001b[0m/      \u001b[01;34mvisualization\u001b[0m/\n",
            "sb3_train.py      wsl_requirements.txt\n"
          ]
        }
      ],
      "source": [
        "# Ensure we're in the right directory \n",
        "%cd ~\n",
        "%cd .. \n",
        "%cd content/gdrive/MyDrive/'Personal - 3rd year'/CERI/'Christian, Tim and Timothy '/ColabDirs/SSD2\n",
        "%ls"
      ]
    },
    {
      "cell_type": "markdown",
      "source": [
        "# Setup venv and install packages \n"
      ],
      "metadata": {
        "id": "dZwno-t_pnqa"
      }
    },
    {
      "cell_type": "code",
      "execution_count": 17,
      "metadata": {
        "colab": {
          "base_uri": "https://localhost:8080/"
        },
        "id": "Cx26L3_Q2f4s",
        "outputId": "1b70b200-9bcc-4ee8-f659-c980505804e7"
      },
      "outputs": [
        {
          "output_type": "stream",
          "name": "stdout",
          "text": [
            "Reading package lists... Done\n",
            "Building dependency tree       \n",
            "Reading state information... Done\n",
            "The following package was automatically installed and is no longer required:\n",
            "  libnvidia-common-460\n",
            "Use 'sudo apt autoremove' to remove it.\n",
            "The following NEW packages will be installed:\n",
            "  python3.7-venv\n",
            "0 upgraded, 1 newly installed, 0 to remove and 49 not upgraded.\n",
            "Need to get 2,516 kB of archives.\n",
            "After this operation, 2,733 kB of additional disk space will be used.\n",
            "Get:1 http://ppa.launchpad.net/deadsnakes/ppa/ubuntu bionic/main amd64 python3.7-venv amd64 3.7.13-1+bionic3 [2,516 kB]\n",
            "Fetched 2,516 kB in 1s (3,000 kB/s)\n",
            "debconf: unable to initialize frontend: Dialog\n",
            "debconf: (No usable dialog-like program is installed, so the dialog based frontend cannot be used. at /usr/share/perl5/Debconf/FrontEnd/Dialog.pm line 76, <> line 1.)\n",
            "debconf: falling back to frontend: Readline\n",
            "debconf: unable to initialize frontend: Readline\n",
            "debconf: (This frontend requires a controlling tty.)\n",
            "debconf: falling back to frontend: Teletype\n",
            "dpkg-preconfigure: unable to re-open stdin: \n",
            "Selecting previously unselected package python3.7-venv.\n",
            "(Reading database ... 155653 files and directories currently installed.)\n",
            "Preparing to unpack .../python3.7-venv_3.7.13-1+bionic3_amd64.deb ...\n",
            "Unpacking python3.7-venv (3.7.13-1+bionic3) ...\n",
            "Setting up python3.7-venv (3.7.13-1+bionic3) ...\n"
          ]
        }
      ],
      "source": [
        "# Install pip in case its not installed yet \n",
        "# (but it should be, check with `!which pip` or `!python -m pip check`)\n",
        "# !sudo apt-get install python3-pip\n",
        "\n",
        "# Install virtualenv in case its not installed yet \n",
        "# !python -m pip install virtualenv\n",
        "# The above actually didn't work, the below does \n",
        "\n",
        "!sudo apt-get install python3.7-venv"
      ]
    },
    {
      "cell_type": "code",
      "execution_count": 18,
      "metadata": {
        "id": "IomsJ7uX24Xg"
      },
      "outputs": [],
      "source": [
        "# Create our venv\n",
        "!python -m venv colab_venv"
      ]
    },
    {
      "cell_type": "code",
      "execution_count": 19,
      "metadata": {
        "id": "931o6pH1yyDy"
      },
      "outputs": [],
      "source": [
        "# Ensure that 'colab_venv' directory exists, if not make one!\n",
        "import os \n",
        "assert os.path.exists('test_venv'), \"check if the venv folder is still there... 'colab_venv'\""
      ]
    },
    {
      "cell_type": "markdown",
      "metadata": {
        "id": "Hruq2C0c-7WQ"
      },
      "source": [
        "Each statement that uses the venv needs to be pre-pended by the below statement"
      ]
    },
    {
      "cell_type": "code",
      "execution_count": 20,
      "metadata": {
        "id": "hD7zQgkN14Ju"
      },
      "outputs": [],
      "source": [
        "!source test_venv/bin/activate; "
      ]
    },
    {
      "cell_type": "code",
      "execution_count": 26,
      "metadata": {
        "colab": {
          "base_uri": "https://localhost:8080/"
        },
        "id": "VZeYXUvo4UJy",
        "outputId": "76a5287f-3ce5-4304-c89a-a71e782427c4"
      },
      "outputs": [
        {
          "output_type": "stream",
          "name": "stdout",
          "text": [
            "Looking in indexes: https://pypi.org/simple, https://us-python.pkg.dev/colab-wheels/public/simple/\n",
            "Collecting cffi==1.15.0\n",
            "  Using cached cffi-1.15.0-cp37-cp37m-manylinux_2_12_x86_64.manylinux2010_x86_64.whl (427 kB)\n",
            "Collecting cloudpickle==2.1.0\n",
            "  Using cached cloudpickle-2.1.0-py3-none-any.whl (25 kB)\n",
            "Collecting cycler==0.11.0\n",
            "  Using cached cycler-0.11.0-py3-none-any.whl (6.4 kB)\n",
            "Collecting fonttools==4.33.3\n",
            "  Using cached fonttools-4.33.3-py3-none-any.whl (930 kB)\n",
            "Collecting gym-notices==0.0.6\n",
            "  Using cached gym_notices-0.0.6-py3-none-any.whl (2.7 kB)\n",
            "Collecting importlib-metadata==4.11.4\n",
            "  Using cached importlib_metadata-4.11.4-py3-none-any.whl (18 kB)\n",
            "Collecting kiwisolver==1.4.2\n",
            "  Using cached kiwisolver-1.4.2-cp37-cp37m-manylinux_2_5_x86_64.manylinux1_x86_64.whl (1.1 MB)\n",
            "Collecting matplotlib==3.5.2\n",
            "  Using cached matplotlib-3.5.2-cp37-cp37m-manylinux_2_5_x86_64.manylinux1_x86_64.whl (11.2 MB)\n",
            "Collecting numpy\n",
            "  Using cached numpy-1.21.6-cp37-cp37m-manylinux_2_12_x86_64.manylinux2010_x86_64.whl (15.7 MB)\n",
            "Collecting packaging==21.3\n",
            "  Using cached packaging-21.3-py3-none-any.whl (40 kB)\n",
            "Collecting pandas\n",
            "  Using cached pandas-1.3.5-cp37-cp37m-manylinux_2_17_x86_64.manylinux2014_x86_64.whl (11.3 MB)\n",
            "Collecting pettingzoo==1.19.0\n",
            "  Using cached PettingZoo-1.19.0-py3-none-any.whl (807 kB)\n",
            "Collecting Pillow==9.1.1\n",
            "  Using cached Pillow-9.1.1-cp37-cp37m-manylinux_2_17_x86_64.manylinux2014_x86_64.whl (3.1 MB)\n",
            "Collecting pycparser==2.21\n",
            "  Using cached pycparser-2.21-py2.py3-none-any.whl (118 kB)\n",
            "Collecting pygame==2.1.0\n",
            "  Using cached pygame-2.1.0-cp37-cp37m-manylinux_2_17_x86_64.manylinux2014_x86_64.whl (18.3 MB)\n",
            "Collecting pymunk==6.2.0\n",
            "  Using cached pymunk-6.2.0-cp37-cp37m-manylinux2010_x86_64.whl (980 kB)\n",
            "Collecting pyparsing==3.0.9\n",
            "  Using cached pyparsing-3.0.9-py3-none-any.whl (98 kB)\n",
            "Collecting python-dateutil==2.8.2\n",
            "  Using cached python_dateutil-2.8.2-py2.py3-none-any.whl (247 kB)\n",
            "Collecting pytz==2022.1\n",
            "  Using cached pytz-2022.1-py2.py3-none-any.whl (503 kB)\n",
            "Collecting six==1.16.0\n",
            "  Using cached six-1.16.0-py2.py3-none-any.whl (11 kB)\n",
            "Collecting tinyscaler==1.2.4\n",
            "  Using cached tinyscaler-1.2.4.tar.gz (124 kB)\n",
            "  Installing build dependencies ... \u001b[?25l\u001b[?25hdone\n",
            "  Getting requirements to build wheel ... \u001b[?25l\u001b[?25hdone\n",
            "  Preparing metadata (pyproject.toml) ... \u001b[?25l\u001b[?25hdone\n",
            "Collecting torch==1.11.0\n",
            "  Using cached torch-1.11.0-cp37-cp37m-manylinux1_x86_64.whl (750.6 MB)\n",
            "Collecting typing-extensions==4.2.0\n",
            "  Using cached typing_extensions-4.2.0-py3-none-any.whl (24 kB)\n",
            "Collecting wandb\n",
            "  Using cached wandb-0.12.21-py2.py3-none-any.whl (1.8 MB)\n",
            "Collecting zipp==3.8.0\n",
            "  Using cached zipp-3.8.0-py3-none-any.whl (5.4 kB)\n",
            "Collecting gym>=0.21.0\n",
            "  Using cached gym-0.25.0.tar.gz (720 kB)\n",
            "  Installing build dependencies ... \u001b[?25l\u001b[?25hdone\n",
            "  Getting requirements to build wheel ... \u001b[?25l\u001b[?25hdone\n",
            "  Preparing metadata (pyproject.toml) ... \u001b[?25l\u001b[?25hdone\n",
            "Collecting Click!=8.0.0,>=7.0\n",
            "  Downloading click-8.1.3-py3-none-any.whl (96 kB)\n",
            "\u001b[2K     \u001b[90m━━━━━━━━━━━━━━━━━━━━━━━━━━━━━━━━━━━━━━━━\u001b[0m \u001b[32m96.6/96.6 KB\u001b[0m \u001b[31m3.9 MB/s\u001b[0m eta \u001b[36m0:00:00\u001b[0m\n",
            "\u001b[?25hCollecting pathtools\n",
            "  Downloading pathtools-0.1.2.tar.gz (11 kB)\n",
            "  Preparing metadata (setup.py) ... \u001b[?25l\u001b[?25hdone\n",
            "Collecting requests<3,>=2.0.0\n",
            "  Downloading requests-2.28.1-py3-none-any.whl (62 kB)\n",
            "\u001b[2K     \u001b[90m━━━━━━━━━━━━━━━━━━━━━━━━━━━━━━━━━━━━━━━━\u001b[0m \u001b[32m62.8/62.8 KB\u001b[0m \u001b[31m6.6 MB/s\u001b[0m eta \u001b[36m0:00:00\u001b[0m\n",
            "\u001b[?25hCollecting protobuf<4.0dev,>=3.12.0\n",
            "  Downloading protobuf-3.20.1-cp37-cp37m-manylinux_2_5_x86_64.manylinux1_x86_64.whl (1.0 MB)\n",
            "\u001b[2K     \u001b[90m━━━━━━━━━━━━━━━━━━━━━━━━━━━━━━━━━━━━━━━━\u001b[0m \u001b[32m1.0/1.0 MB\u001b[0m \u001b[31m9.0 MB/s\u001b[0m eta \u001b[36m0:00:00\u001b[0m\n",
            "\u001b[?25hCollecting GitPython>=1.0.0\n",
            "  Downloading GitPython-3.1.27-py3-none-any.whl (181 kB)\n",
            "\u001b[2K     \u001b[90m━━━━━━━━━━━━━━━━━━━━━━━━━━━━━━━━━━━━━━\u001b[0m \u001b[32m181.2/181.2 KB\u001b[0m \u001b[31m16.0 MB/s\u001b[0m eta \u001b[36m0:00:00\u001b[0m\n",
            "\u001b[?25hCollecting psutil>=5.0.0\n",
            "  Downloading psutil-5.9.1-cp37-cp37m-manylinux_2_12_x86_64.manylinux2010_x86_64.manylinux_2_17_x86_64.manylinux2014_x86_64.whl (281 kB)\n",
            "\u001b[2K     \u001b[90m━━━━━━━━━━━━━━━━━━━━━━━━━━━━━━━━━━━━━━━\u001b[0m \u001b[32m281.4/281.4 KB\u001b[0m \u001b[31m3.3 MB/s\u001b[0m eta \u001b[36m0:00:00\u001b[0m\n",
            "\u001b[?25hCollecting docker-pycreds>=0.4.0\n",
            "  Downloading docker_pycreds-0.4.0-py2.py3-none-any.whl (9.0 kB)\n",
            "Collecting shortuuid>=0.5.0\n",
            "  Downloading shortuuid-1.0.9-py3-none-any.whl (9.4 kB)\n",
            "Collecting promise<3,>=2.0\n",
            "  Downloading promise-2.3.tar.gz (19 kB)\n",
            "  Preparing metadata (setup.py) ... \u001b[?25l\u001b[?25hdone\n",
            "Collecting sentry-sdk>=1.0.0\n",
            "  Downloading sentry_sdk-1.7.2-py2.py3-none-any.whl (147 kB)\n",
            "\u001b[2K     \u001b[90m━━━━━━━━━━━━━━━━━━━━━━━━━━━━━━━━━━━━━━\u001b[0m \u001b[32m148.0/148.0 KB\u001b[0m \u001b[31m16.4 MB/s\u001b[0m eta \u001b[36m0:00:00\u001b[0m\n",
            "\u001b[?25hCollecting setproctitle\n",
            "  Downloading setproctitle-1.2.3-cp37-cp37m-manylinux_2_5_x86_64.manylinux1_x86_64.manylinux_2_17_x86_64.manylinux2014_x86_64.whl (29 kB)\n",
            "Requirement already satisfied: setuptools in ./test_venv/lib/python3.7/site-packages (from wandb->-r wsl_requirements.txt (line 27)) (47.1.0)\n",
            "Collecting PyYAML\n",
            "  Downloading PyYAML-6.0-cp37-cp37m-manylinux_2_5_x86_64.manylinux1_x86_64.manylinux_2_12_x86_64.manylinux2010_x86_64.whl (596 kB)\n",
            "\u001b[2K     \u001b[90m━━━━━━━━━━━━━━━━━━━━━━━━━━━━━━━━━━━━━━━\u001b[0m \u001b[32m596.3/596.3 KB\u001b[0m \u001b[31m7.0 MB/s\u001b[0m eta \u001b[36m0:00:00\u001b[0m\n",
            "\u001b[?25hCollecting gitdb<5,>=4.0.1\n",
            "  Downloading gitdb-4.0.9-py3-none-any.whl (63 kB)\n",
            "\u001b[2K     \u001b[90m━━━━━━━━━━━━━━━━━━━━━━━━━━━━━━━━━━━━━━━━\u001b[0m \u001b[32m63.1/63.1 KB\u001b[0m \u001b[31m7.8 MB/s\u001b[0m eta \u001b[36m0:00:00\u001b[0m\n",
            "\u001b[?25hCollecting certifi>=2017.4.17\n",
            "  Downloading certifi-2022.6.15-py3-none-any.whl (160 kB)\n",
            "\u001b[2K     \u001b[90m━━━━━━━━━━━━━━━━━━━━━━━━━━━━━━━━━━━━━━\u001b[0m \u001b[32m160.2/160.2 KB\u001b[0m \u001b[31m14.6 MB/s\u001b[0m eta \u001b[36m0:00:00\u001b[0m\n",
            "\u001b[?25hCollecting idna<4,>=2.5\n",
            "  Downloading idna-3.3-py3-none-any.whl (61 kB)\n",
            "\u001b[2K     \u001b[90m━━━━━━━━━━━━━━━━━━━━━━━━━━━━━━━━━━━━━━━━\u001b[0m \u001b[32m61.2/61.2 KB\u001b[0m \u001b[31m7.1 MB/s\u001b[0m eta \u001b[36m0:00:00\u001b[0m\n",
            "\u001b[?25hCollecting urllib3<1.27,>=1.21.1\n",
            "  Downloading urllib3-1.26.10-py2.py3-none-any.whl (139 kB)\n",
            "\u001b[2K     \u001b[90m━━━━━━━━━━━━━━━━━━━━━━━━━━━━━━━━━━━━━━\u001b[0m \u001b[32m139.2/139.2 KB\u001b[0m \u001b[31m14.8 MB/s\u001b[0m eta \u001b[36m0:00:00\u001b[0m\n",
            "\u001b[?25hCollecting charset-normalizer<3,>=2\n",
            "  Downloading charset_normalizer-2.1.0-py3-none-any.whl (39 kB)\n",
            "Collecting smmap<6,>=3.0.1\n",
            "  Downloading smmap-5.0.0-py3-none-any.whl (24 kB)\n",
            "Using legacy 'setup.py install' for promise, since package 'wheel' is not installed.\n",
            "Using legacy 'setup.py install' for pathtools, since package 'wheel' is not installed.\n",
            "Building wheels for collected packages: tinyscaler, gym\n",
            "  Building wheel for tinyscaler (pyproject.toml) ... \u001b[?25l\u001b[?25hdone\n",
            "  Created wheel for tinyscaler: filename=tinyscaler-1.2.4-cp37-cp37m-linux_x86_64.whl size=310281 sha256=be5fb0670c33cd42bf75e990be86cc830e0e7b15fdbb9a49bab51d94525b80a2\n",
            "  Stored in directory: /root/.cache/pip/wheels/a9/c1/f0/7029674b5e12b39f8d3cd1ea46076c1bacb32041a245395e6b\n",
            "  Building wheel for gym (pyproject.toml) ... \u001b[?25l\u001b[?25hdone\n",
            "  Created wheel for gym: filename=gym-0.25.0-py3-none-any.whl size=824414 sha256=d2a6742ca7eaf059f06914d08049419629d8f996468404206c38453f4817bf1e\n",
            "  Stored in directory: /root/.cache/pip/wheels/2c/58/d8/1590abcfe48cdf414681b1e2b6647045b85f7c924563b664ee\n",
            "Successfully built tinyscaler gym\n",
            "Installing collected packages: pytz, pathtools, gym-notices, zipp, urllib3, typing-extensions, smmap, six, shortuuid, setproctitle, PyYAML, pyparsing, pygame, pycparser, psutil, protobuf, Pillow, numpy, idna, fonttools, cycler, cloudpickle, charset-normalizer, certifi, torch, tinyscaler, sentry-sdk, requests, python-dateutil, promise, packaging, kiwisolver, importlib-metadata, gitdb, docker-pycreds, cffi, pymunk, pandas, matplotlib, gym, GitPython, Click, wandb, pettingzoo\n",
            "  Running setup.py install for pathtools ... \u001b[?25l\u001b[?25hdone\n",
            "  Running setup.py install for promise ... \u001b[?25l\u001b[?25hdone\n",
            "Successfully installed Click-8.1.3 GitPython-3.1.27 Pillow-9.1.1 PyYAML-6.0 certifi-2022.6.15 cffi-1.15.0 charset-normalizer-2.1.0 cloudpickle-2.1.0 cycler-0.11.0 docker-pycreds-0.4.0 fonttools-4.33.3 gitdb-4.0.9 gym-0.25.0 gym-notices-0.0.6 idna-3.3 importlib-metadata-4.11.4 kiwisolver-1.4.2 matplotlib-3.5.2 numpy-1.21.6 packaging-21.3 pandas-1.3.5 pathtools-0.1.2 pettingzoo-1.19.0 promise-2.3 protobuf-3.20.1 psutil-5.9.1 pycparser-2.21 pygame-2.1.0 pymunk-6.2.0 pyparsing-3.0.9 python-dateutil-2.8.2 pytz-2022.1 requests-2.28.1 sentry-sdk-1.7.2 setproctitle-1.2.3 shortuuid-1.0.9 six-1.16.0 smmap-5.0.0 tinyscaler-1.2.4 torch-1.11.0 typing-extensions-4.2.0 urllib3-1.26.10 wandb-0.12.21 zipp-3.8.0\n"
          ]
        }
      ],
      "source": [
        "!source test_venv/bin/activate; python -m pip install -r wsl_requirements.txt"
      ]
    },
    {
      "cell_type": "code",
      "source": [
        "!source test_venv/bin/activate; pip install stable-baselines3==1.5.0\n",
        "!source test_venv/bin/activate; pip install supersuit==3.5.0\n",
        "!source test_venv/bin/activate; pip install tensorboard\n",
        "!source test_venv/bin/activate; pip install opencv-python \n",
        "!source test_venv/bin/activate; pip install gym==0.24.0\n",
        "!source test_venv/bin/activate; pip list"
      ],
      "metadata": {
        "colab": {
          "base_uri": "https://localhost:8080/"
        },
        "id": "2lDwc6ICYU6w",
        "outputId": "819d5f89-9cad-4e6b-e2b3-13682363e142"
      },
      "execution_count": 34,
      "outputs": [
        {
          "output_type": "stream",
          "name": "stdout",
          "text": [
            "Looking in indexes: https://pypi.org/simple, https://us-python.pkg.dev/colab-wheels/public/simple/\n",
            "Collecting stable-baselines3==1.5.0\n",
            "  Using cached stable_baselines3-1.5.0-py3-none-any.whl (177 kB)\n",
            "Collecting gym==0.21\n",
            "  Using cached gym-0.21.0-py3-none-any.whl\n",
            "Requirement already satisfied: cloudpickle in ./test_venv/lib/python3.7/site-packages (from stable-baselines3==1.5.0) (2.1.0)\n",
            "Requirement already satisfied: matplotlib in ./test_venv/lib/python3.7/site-packages (from stable-baselines3==1.5.0) (3.5.2)\n",
            "Requirement already satisfied: pandas in ./test_venv/lib/python3.7/site-packages (from stable-baselines3==1.5.0) (1.3.5)\n",
            "Requirement already satisfied: torch>=1.8.1 in ./test_venv/lib/python3.7/site-packages (from stable-baselines3==1.5.0) (1.11.0)\n",
            "Requirement already satisfied: numpy in ./test_venv/lib/python3.7/site-packages (from stable-baselines3==1.5.0) (1.21.6)\n",
            "Requirement already satisfied: importlib-metadata>=4.8.1 in ./test_venv/lib/python3.7/site-packages (from gym==0.21->stable-baselines3==1.5.0) (4.11.4)\n",
            "Requirement already satisfied: typing-extensions in ./test_venv/lib/python3.7/site-packages (from torch>=1.8.1->stable-baselines3==1.5.0) (4.2.0)\n",
            "Requirement already satisfied: packaging>=20.0 in ./test_venv/lib/python3.7/site-packages (from matplotlib->stable-baselines3==1.5.0) (21.3)\n",
            "Requirement already satisfied: kiwisolver>=1.0.1 in ./test_venv/lib/python3.7/site-packages (from matplotlib->stable-baselines3==1.5.0) (1.4.2)\n",
            "Requirement already satisfied: pillow>=6.2.0 in ./test_venv/lib/python3.7/site-packages (from matplotlib->stable-baselines3==1.5.0) (9.1.1)\n",
            "Requirement already satisfied: cycler>=0.10 in ./test_venv/lib/python3.7/site-packages (from matplotlib->stable-baselines3==1.5.0) (0.11.0)\n",
            "Requirement already satisfied: python-dateutil>=2.7 in ./test_venv/lib/python3.7/site-packages (from matplotlib->stable-baselines3==1.5.0) (2.8.2)\n",
            "Requirement already satisfied: pyparsing>=2.2.1 in ./test_venv/lib/python3.7/site-packages (from matplotlib->stable-baselines3==1.5.0) (3.0.9)\n",
            "Requirement already satisfied: fonttools>=4.22.0 in ./test_venv/lib/python3.7/site-packages (from matplotlib->stable-baselines3==1.5.0) (4.33.3)\n",
            "Requirement already satisfied: pytz>=2017.3 in ./test_venv/lib/python3.7/site-packages (from pandas->stable-baselines3==1.5.0) (2022.1)\n",
            "Requirement already satisfied: zipp>=0.5 in ./test_venv/lib/python3.7/site-packages (from importlib-metadata>=4.8.1->gym==0.21->stable-baselines3==1.5.0) (3.8.0)\n",
            "Requirement already satisfied: six>=1.5 in ./test_venv/lib/python3.7/site-packages (from python-dateutil>=2.7->matplotlib->stable-baselines3==1.5.0) (1.16.0)\n",
            "Installing collected packages: gym, stable-baselines3\n",
            "  Attempting uninstall: gym\n",
            "    Found existing installation: gym 0.25.0\n",
            "    Uninstalling gym-0.25.0:\n",
            "      Successfully uninstalled gym-0.25.0\n",
            "Successfully installed gym-0.21.0 stable-baselines3-1.5.0\n"
          ]
        }
      ]
    },
    {
      "cell_type": "code",
      "source": [
        "!source test_venv/bin/activate; python sb3_train.py"
      ],
      "metadata": {
        "colab": {
          "base_uri": "https://localhost:8080/"
        },
        "id": "XlyR882efdT0",
        "outputId": "8b97bdd1-3fe8-4524-e6c8-7bd2812a7d90"
      },
      "execution_count": 47,
      "outputs": [
        {
          "output_type": "stream",
          "name": "stdout",
          "text": [
            "1. Env type is:  <class 'social_dilemmas.envs.pettingzoo_env._parallel_env'>\n",
            "2. Env type is:  <class 'pettingzoo.utils.conversions.aec_to_parallel_wrapper'>\n",
            "3. Env type is:  <class 'supersuit.generic_wrappers.utils.shared_wrapper_util.shared_wrapper_parr'>\n",
            "4. Env type is:  <class 'supersuit.vector.markov_vector_wrapper.MarkovVectorEnv'>\n",
            "We made it\n",
            "Using cpu device\n",
            "Logging to ./results/sb3/cleanup_ppo_paramsharing/PPO_4\n",
            "-----------------------------------\n",
            "| rollout/           |            |\n",
            "|    ep_len_mean     | 1e+03      |\n",
            "|    ep_rew_mean     | -659.86664 |\n",
            "| time/              |            |\n",
            "|    fps             | 975        |\n",
            "|    iterations      | 1          |\n",
            "|    time_elapsed    | 61         |\n",
            "|    total_timesteps | 60000      |\n",
            "-----------------------------------\n",
            "Traceback (most recent call last):\n",
            "  File \"sb3_train.py\", line 200, in <module>\n",
            "    main(args)\n",
            "  File \"sb3_train.py\", line 190, in main\n",
            "    model.learn(total_timesteps=total_timesteps)\n",
            "  File \"/content/gdrive/MyDrive/Personal - 3rd year/CERI/Christian, Tim and Timothy /ColabDirs/SSD2/test_venv/lib/python3.7/site-packages/stable_baselines3/ppo/ppo.py\", line 313, in learn\n",
            "    reset_num_timesteps=reset_num_timesteps,\n",
            "  File \"/content/gdrive/MyDrive/Personal - 3rd year/CERI/Christian, Tim and Timothy /ColabDirs/SSD2/test_venv/lib/python3.7/site-packages/stable_baselines3/common/on_policy_algorithm.py\", line 270, in learn\n",
            "    self.train()\n",
            "  File \"/content/gdrive/MyDrive/Personal - 3rd year/CERI/Christian, Tim and Timothy /ColabDirs/SSD2/test_venv/lib/python3.7/site-packages/stable_baselines3/ppo/ppo.py\", line 203, in train\n",
            "    values, log_prob, entropy = self.policy.evaluate_actions(rollout_data.observations, actions)\n",
            "  File \"/content/gdrive/MyDrive/Personal - 3rd year/CERI/Christian, Tim and Timothy /ColabDirs/SSD2/test_venv/lib/python3.7/site-packages/stable_baselines3/common/policies.py\", line 643, in evaluate_actions\n",
            "    features = self.extract_features(obs)\n",
            "  File \"/content/gdrive/MyDrive/Personal - 3rd year/CERI/Christian, Tim and Timothy /ColabDirs/SSD2/test_venv/lib/python3.7/site-packages/stable_baselines3/common/policies.py\", line 129, in extract_features\n",
            "    return self.features_extractor(preprocessed_obs)\n",
            "  File \"/content/gdrive/MyDrive/Personal - 3rd year/CERI/Christian, Tim and Timothy /ColabDirs/SSD2/test_venv/lib/python3.7/site-packages/torch/nn/modules/module.py\", line 1110, in _call_impl\n",
            "    return forward_call(*input, **kwargs)\n",
            "  File \"sb3_train.py\", line 108, in forward\n",
            "    features = F.relu(self.fc1(features))\n",
            "  File \"/content/gdrive/MyDrive/Personal - 3rd year/CERI/Christian, Tim and Timothy /ColabDirs/SSD2/test_venv/lib/python3.7/site-packages/torch/nn/modules/module.py\", line 1110, in _call_impl\n",
            "    return forward_call(*input, **kwargs)\n",
            "  File \"/content/gdrive/MyDrive/Personal - 3rd year/CERI/Christian, Tim and Timothy /ColabDirs/SSD2/test_venv/lib/python3.7/site-packages/torch/nn/modules/linear.py\", line 103, in forward\n",
            "    return F.linear(input, self.weight, self.bias)\n",
            "KeyboardInterrupt\n"
          ]
        }
      ]
    },
    {
      "cell_type": "code",
      "source": [
        ""
      ],
      "metadata": {
        "id": "QCJSVJOhlH4k"
      },
      "execution_count": null,
      "outputs": []
    }
  ]
}